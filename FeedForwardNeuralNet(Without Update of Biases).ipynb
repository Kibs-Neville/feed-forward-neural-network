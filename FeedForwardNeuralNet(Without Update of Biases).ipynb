{
 "cells": [
  {
   "cell_type": "markdown",
   "id": "b9bdb482-049f-4028-b9ec-cd08920e6f17",
   "metadata": {},
   "source": [
    "### Below is an image of a simple feed forward neural network with 3 layers. It contains 2 input, hidden and output neurons. We are trying to find the optimal weights for the desired outputs O1 & O2. \n",
    "\n",
    "### Note that we have renamed the biases to b1, b2, b3 & b4 so as to avoid confusion.\n",
    "\n",
    "![My Image](FFNN.png)"
   ]
  },
  {
   "cell_type": "markdown",
   "id": "54e7e4a6-7d49-44c5-8e0a-9f19fd5d5602",
   "metadata": {},
   "source": [
    "## Constants"
   ]
  },
  {
   "cell_type": "code",
   "execution_count": 1,
   "id": "bf83b7d0-24f9-465b-b50a-7aecee49ca24",
   "metadata": {},
   "outputs": [],
   "source": [
    "from Sigmoid import sigmoid\n",
    "import matplotlib.pyplot as plt\n",
    "import numpy as np\n",
    "alpha = 0.5 # Learning rate\n",
    "O1target = 0.9\n",
    "O2target = 0.1\n",
    "epochs = 2000"
   ]
  },
  {
   "cell_type": "markdown",
   "id": "c1411bcf-a9c6-4d64-98b2-b278af622296",
   "metadata": {},
   "source": [
    "## Initializing parameters"
   ]
  },
  {
   "cell_type": "code",
   "execution_count": 2,
   "id": "49c014da-0cb5-4ee7-b077-9230b30fce35",
   "metadata": {},
   "outputs": [],
   "source": [
    "def initialize_parameters():\n",
    "    params = {\n",
    "        'X1': 0.7, 'X2': 0.3,\n",
    "        'b1': 0.4, 'b2': 0.4, 'b3': 0.6, 'b4': 0.6,\n",
    "        'w1': 0.3, 'w2': 0.37, 'w3': 0.35, 'w4': 0.27,\n",
    "        'w6': 0.42, 'w7': 0.25, 'w8': 0.15, 'w9': 0.45\n",
    "    }\n",
    "    return params"
   ]
  },
  {
   "cell_type": "markdown",
   "id": "7ae0f481-655d-4175-8663-d5da170fd779",
   "metadata": {},
   "source": [
    "## Forward propagation"
   ]
  },
  {
   "cell_type": "code",
   "execution_count": 3,
   "id": "0a622670-7cdb-421b-aeac-4d64d6992b81",
   "metadata": {},
   "outputs": [],
   "source": [
    "def forward_pass(params):\n",
    "    X1, X2 = params['X1'], params['X2']\n",
    "    w1, w2, w3, w4 = params['w1'], params['w2'], params['w3'], params['w4']\n",
    "    w6, w7, w8, w9 = params['w6'], params['w7'], params['w8'], params['w9']\n",
    "    b1, b2, b3, b4 = params['b1'], params['b2'], params['b3'], params['b4']\n",
    "\n",
    "    H1net = X1*w4 + X2*w2 + b1\n",
    "    H1out = sigmoid(H1net)\n",
    "\n",
    "    H2net = X1*w3 + X2*w1 + b2\n",
    "    H2out = sigmoid(H2net)\n",
    "\n",
    "    O1net = H1out*w6 + H2out*w9 + b3\n",
    "    O1out = sigmoid(O1net)\n",
    "\n",
    "    O2net = H1out*w7 + H2out*w8 + b4\n",
    "    O2out = sigmoid(O2net)\n",
    "\n",
    "    return H1out, H2out, O1out, O2out"
   ]
  },
  {
   "cell_type": "markdown",
   "id": "cfc3f167-686c-4986-bb82-3b8120328f61",
   "metadata": {},
   "source": [
    "## Cost function"
   ]
  },
  {
   "cell_type": "code",
   "execution_count": 4,
   "id": "9d9aeeaf-33ae-475e-a0ae-b13a8d59e17a",
   "metadata": {},
   "outputs": [],
   "source": [
    "def compute_cost(O1out, O2out, O1target, O2target):\n",
    "    EO1 = 0.5*(O1target-O1out)**2\n",
    "    EO2 = 0.5*(O2target-O2out)**2\n",
    "    cost = EO1 + EO2\n",
    "    return cost"
   ]
  },
  {
   "cell_type": "markdown",
   "id": "a677d4d3-b66f-454e-abcb-1c0b2106e57b",
   "metadata": {},
   "source": [
    "## Backward Propagation"
   ]
  },
  {
   "cell_type": "code",
   "execution_count": 5,
   "id": "9cd66b5a-89e2-4746-8ab9-29c44f13879c",
   "metadata": {},
   "outputs": [],
   "source": [
    "def backward_pass(params, H1out, H2out, O1out, O2out):\n",
    "    X1, X2 = params['X1'], params['X2']\n",
    "    w6, w7, w8, w9 = params['w6'], params['w7'], params['w8'], params['w9']\n",
    "    w1, w2, w3, w4 = params['w1'], params['w2'], params['w3'], params['w4']\n",
    "\n",
    "    dw6 = (O1out-O1target)*(O1out*(1-O1out))*H1out\n",
    "    dw8 = (O2out-O2target)*(O2out*(1-O2out))*H2out\n",
    "    dw9 = (O1out-O1target)*(O1out*(1-O1out))*H2out\n",
    "    dw7 = (O2out-O2target)*(O2out*(1-O2out))*H1out\n",
    "    \n",
    "    dw4one = (O1out-O1target)*(O1out*(1-O1out))*w6*(H1out*(1-H1out))*X1\n",
    "    dw4two = (O2out-O2target)*(O2out*(1-O2out))*w7*(H1out*(1-H1out))*X1\n",
    "    dw4 = dw4one + dw4two\n",
    "    dw1one = (O1out-O1target)*(O1out*(1-O1out))*w9*(H2out*(1-H2out))*X2\n",
    "    dw1two = (O2out-O2target)*(O2out*(1-O2out))*w8*(H2out*(1-H2out))*X2\n",
    "    dw1 = dw1one + dw1two\n",
    "    dw3one = (O1out-O1target)*(O1out*(1-O1out))*w9*(H2out*(1-H2out))*X1\n",
    "    dw3two = (O2out-O2target)*(O2out*(1-O2out))*w8*(H2out*(1-H2out))*X1\n",
    "    dw3 = dw3one + dw3two\n",
    "    dw2one = (O1out-O1target)*(O1out*(1-O1out))*w6*(H1out*(1-H1out))*X2\n",
    "    dw2two = (O2out-O2target)*(O2out*(1-O2out))*w7*(H1out*(1-H1out))*X2\n",
    "    dw2 = dw2one + dw2two\n",
    "    \n",
    "    grads = {\n",
    "        'dw1': dw1, 'dw2': dw2, 'dw3': dw3, 'dw4': dw4, 'dw6': dw6, 'dw7': dw7, 'dw8': dw8, 'dw9': dw9\n",
    "    }\n",
    "    \n",
    "    return grads"
   ]
  },
  {
   "cell_type": "markdown",
   "id": "28b4432b-2870-4fa6-a488-eb9328f48065",
   "metadata": {},
   "source": [
    "## Parameter Update"
   ]
  },
  {
   "cell_type": "code",
   "execution_count": 6,
   "id": "1c20defe-922b-44b9-9e1c-a516823f778b",
   "metadata": {},
   "outputs": [],
   "source": [
    "def update_parameters(params, grads, alpha):\n",
    "    # Extract inputs\n",
    "    X1, X2 = params['X1'], params['X2']\n",
    "\n",
    "    # Extract current parameters\n",
    "    w1, w2, w3, w4 = params['w1'], params['w2'], params['w3'], params['w4']\n",
    "    w6, w7, w8, w9 = params['w6'], params['w7'], params['w8'], params['w9']\n",
    "    b1, b2, b3, b4 = params['b1'], params['b2'], params['b3'], params['b4']\n",
    "\n",
    "    # Extract gradients\n",
    "    dw1, dw2, dw3, dw4 = grads['dw1'], grads['dw2'], grads['dw3'], grads['dw4']\n",
    "    dw6, dw7, dw8, dw9 = grads['dw6'], grads['dw7'], grads['dw8'], grads['dw9']\n",
    "\n",
    "    # Update parameters\n",
    "    params['w1'] = w1 - alpha * dw1\n",
    "    params['w2'] = w2 - alpha * dw2\n",
    "    params['w3'] = w3 - alpha * dw3\n",
    "    params['w4'] = w4 - alpha * dw4\n",
    "    params['w6'] = w6 - alpha * dw6\n",
    "    params['w7'] = w7 - alpha * dw7\n",
    "    params['w8'] = w8 - alpha * dw8\n",
    "    params['w9'] = w9 - alpha * dw9\n",
    "\n",
    "    \n",
    "\n",
    "    # Preserve inputs and biases in the returned dictionary \n",
    "    params['X1'] = X1\n",
    "    params['X2'] = X2\n",
    "    params['b1'], params['b2'], params['b3'], params['b4'] = b1, b2, b3, b4\n",
    "\n",
    "    return params\n"
   ]
  },
  {
   "cell_type": "markdown",
   "id": "fa286f29-4187-4efe-a306-05f569d43980",
   "metadata": {},
   "source": [
    "## Model Training"
   ]
  },
  {
   "cell_type": "code",
   "execution_count": 7,
   "id": "4aae69a4-f569-48e0-86ac-e21998b20d9a",
   "metadata": {},
   "outputs": [
    {
     "name": "stdout",
     "output_type": "stream",
     "text": [
      "Epoch 0 - Cost: 0.191665\n",
      "    O1out: 0.765809, O2out: 0.704419\n",
      "Epoch 200 - Cost: 0.000609\n",
      "    O1out: 0.880497, O2out: 0.128929\n",
      "Epoch 400 - Cost: 0.000045\n",
      "    O1out: 0.894242, O2out: 0.107533\n",
      "Epoch 600 - Cost: 0.000005\n",
      "    O1out: 0.898057, O2out: 0.102375\n",
      "Epoch 800 - Cost: 0.000001\n",
      "    O1out: 0.899316, O2out: 0.100786\n",
      "Epoch 1000 - Cost: 0.000000\n",
      "    O1out: 0.899755, O2out: 0.100264\n",
      "Epoch 1200 - Cost: 0.000000\n",
      "    O1out: 0.899911, O2out: 0.100088\n",
      "Epoch 1400 - Cost: 0.000000\n",
      "    O1out: 0.899968, O2out: 0.100030\n",
      "Epoch 1600 - Cost: 0.000000\n",
      "    O1out: 0.899988, O2out: 0.100010\n",
      "Epoch 1800 - Cost: 0.000000\n",
      "    O1out: 0.899996, O2out: 0.100003\n",
      "\n",
      "Final Weights and Biases:\n",
      "  b1: 0.4000\n",
      "  b2: 0.4000\n",
      "  b3: 0.6000\n",
      "  b4: 0.6000\n",
      "  w1: 0.4981\n",
      "  w2: 0.5494\n",
      "  w3: 0.8123\n",
      "  w4: 0.6886\n",
      "  w6: 1.0486\n",
      "  w7: -1.8050\n",
      "  w8: -1.9389\n",
      "  w9: 1.0895\n"
     ]
    }
   ],
   "source": [
    "cost_list = []\n",
    "def train():\n",
    "    params = initialize_parameters()\n",
    "    for e in range(epochs):\n",
    "        H1out, H2out, O1out, O2out = forward_pass(params)\n",
    "        cost = compute_cost(O1out, O2out, O1target, O2target)\n",
    "        grads = backward_pass(params, H1out, H2out, O1out, O2out)\n",
    "        params = update_parameters(params, grads, alpha)\n",
    "        cost_list.append(cost)\n",
    "\n",
    "        if(e%(epochs/10) == 0):\n",
    "            print(f\"Epoch {e} - Cost: {cost:.6f}\")\n",
    "            print(f\"    O1out: {O1out:.6f}, O2out: {O2out:.6f}\")\n",
    "\n",
    "    print(\"\\nFinal Weights and Biases:\")\n",
    "    for key in sorted(params):\n",
    "        if not key.startswith('X'):  # Skip inputs\n",
    "            print(f\"  {key}: {params[key]:.4f}\")\n",
    "\n",
    "# Run Training\n",
    "train()\n"
   ]
  },
  {
   "cell_type": "markdown",
   "id": "3cab9efc",
   "metadata": {},
   "source": [
    "# Cost decrease as it approaches minima"
   ]
  },
  {
   "cell_type": "code",
   "execution_count": 8,
   "id": "a2bfedf6",
   "metadata": {},
   "outputs": [
    {
     "data": {
      "image/png": "[encoded data removed]",
      "text/plain": [
       "<Figure size 640x480 with 1 Axes>"
      ]
     },
     "metadata": {},
     "output_type": "display_data"
    }
   ],
   "source": [
    "t = np.arange(0, epochs)\n",
    "plt.plot(t, cost_list)\n",
    "plt.xlabel(\"Epoch\")\n",
    "plt.ylabel(\"Cost\")\n",
    "plt.show()"
   ]
  },
  {
   "cell_type": "markdown",
   "id": "d6d2b589-83b4-4348-a330-cdbe1dea65be",
   "metadata": {},
   "source": [
    "## After 2000 epochs:\n",
    "- b1: 0.4000\n",
    "- b2: 0.4000\n",
    "- b3: 0.6000\n",
    "- b4: 0.6000\n",
    "- w1: 0.4981\n",
    "- w2: 0.5494\n",
    "- w3: 0.8123\n",
    "- w4: 0.6886\n",
    "- w6: 1.0486\n",
    "- w7: -1.8050\n",
    "- w8: -1.9389\n",
    "- w9: 1.0895\n",
    "\n",
    "- O1out: 0.899996\n",
    "- O2out: 0.100003\n",
    "\n",
    "- Actual O1: 0.9\n",
    "- Actual O2: 0.1"
   ]
  }
 ],
 "metadata": {
  "kernelspec": {
   "display_name": "Python 3",
   "language": "python",
   "name": "python3"
  },
  "language_info": {
   "codemirror_mode": {
    "name": "ipython",
    "version": 3
   },
   "file_extension": ".py",
   "mimetype": "text/x-python",
   "name": "python",
   "nbconvert_exporter": "python",
   "pygments_lexer": "ipython3",
   "version": "3.10.0"
  }
 },
 "nbformat": 4,
 "nbformat_minor": 5
}
